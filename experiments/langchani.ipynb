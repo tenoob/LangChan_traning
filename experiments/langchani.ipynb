{
 "cells": [
  {
   "cell_type": "code",
   "execution_count": 4,
   "metadata": {},
   "outputs": [],
   "source": [
    "import os\n",
    "from experiement_constants import openai_key, hugging_key\n",
    "os.environ[\"OPENAI_API_KEY\"] = openai_key\n",
    "os.environ['HUGGINGFACEHUB_API_TOKEN'] = hugging_key\n",
    "from langchain_openai import OpenAI"
   ]
  },
  {
   "cell_type": "code",
   "execution_count": 5,
   "metadata": {},
   "outputs": [],
   "source": [
    "llm = OpenAI(temperature=0.8)\n"
   ]
  },
  {
   "cell_type": "code",
   "execution_count": 6,
   "metadata": {},
   "outputs": [
    {
     "name": "stdout",
     "output_type": "stream",
     "text": [
      "\n",
      "IPL stands for Indian Premier League, which is a professional Twenty20 cricket league in India. It was founded by the Board of Control for Cricket in India (BCCI) in 2008 and is played every year in the months of March to May. The league consists of eight teams representing different cities in India, and features some of the world's top cricket players. IPL is known for its high-energy and entertaining cricket matches, with a mix of international and local players, and has gained a huge following and popularity in India and around the world.\n"
     ]
    }
   ],
   "source": [
    "text = \"What is IPL?\"\n",
    "print(llm.invoke(text))"
   ]
  },
  {
   "cell_type": "code",
   "execution_count": 7,
   "metadata": {},
   "outputs": [
    {
     "name": "stderr",
     "output_type": "stream",
     "text": [
      "d:\\Python\\LangChan_traning\\venv\\lib\\site-packages\\tqdm\\auto.py:21: TqdmWarning: IProgress not found. Please update jupyter and ipywidgets. See https://ipywidgets.readthedocs.io/en/stable/user_install.html\n",
      "  from .autonotebook import tqdm as notebook_tqdm\n"
     ]
    }
   ],
   "source": [
    "#using model from huggingface \n",
    "from langchain_community.llms import HuggingFaceHub\n",
    "\n",
    "llm_hugging = HuggingFaceHub(repo_id=\"google/flan-t5-large\",\n",
    "               model_kwargs={\n",
    "                   \"temperature\":0, \"max_length\":64\n",
    "               })\n"
   ]
  },
  {
   "cell_type": "code",
   "execution_count": 8,
   "metadata": {},
   "outputs": [
    {
     "name": "stdout",
     "output_type": "stream",
     "text": [
      "ai ai ai ai ai ai ai ai ai ai ai ai ai ai ai ai ai ai ai ai ai\n"
     ]
    }
   ],
   "source": [
    "output = llm_hugging.predict(\"Can you write a poem about Ai\")\n",
    "print(output)"
   ]
  },
  {
   "cell_type": "code",
   "execution_count": 23,
   "metadata": {},
   "outputs": [
    {
     "data": {
      "text/plain": [
       "'How many teams play in ipl?'"
      ]
     },
     "execution_count": 23,
     "metadata": {},
     "output_type": "execute_result"
    }
   ],
   "source": [
    "##Prompt Templates\n",
    "from langchain.prompts.prompt import PromptTemplate\n",
    "from langchain.chains import LLMChain\n",
    "\n",
    "template = \"How many teams play in {league}?\"\n",
    "prompt_template = PromptTemplate(\n",
    "    input_variables=['league'],\n",
    "    template=template)\n",
    "\n",
    "prompt_template.format(league='ipl')"
   ]
  },
  {
   "cell_type": "code",
   "execution_count": 26,
   "metadata": {},
   "outputs": [
    {
     "data": {
      "text/plain": [
       "'\\n\\nThere are 8 teams that currently play in the Indian Premier League (IPL). They are:\\n\\n1. Chennai Super Kings\\n2. Delhi Capitals\\n3. Kings XI Punjab\\n4. Kolkata Knight Riders\\n5. Mumbai Indians\\n6. Rajasthan Royals\\n7. Royal Challengers Bangalore\\n8. Sunrisers Hyderabad'"
      ]
     },
     "execution_count": 26,
     "metadata": {},
     "output_type": "execute_result"
    }
   ],
   "source": [
    "chain = LLMChain(llm=llm,prompt=prompt_template)\n",
    "#chain.invoke('ipl')\n",
    "\n",
    "test_chain = prompt_template|llm  #works same as the above LLMChian code\n",
    "test_chain.invoke({\"league\":\"ipl\"})"
   ]
  },
  {
   "cell_type": "code",
   "execution_count": 11,
   "metadata": {},
   "outputs": [],
   "source": [
    "#sequential chain\n",
    "league_prompt = PromptTemplate(input_variables=['league'],\n",
    "        template=\"How many teams play in {league}?\")\n",
    "\n",
    "league_chain = LLMChain(llm=llm,prompt=league_prompt)\n",
    "\n",
    "top_team_prompt = PromptTemplate(input_variables=['teams'],\n",
    "        template=\"which is most successfull team out of {teams}?\")\n",
    "\n",
    "top_chain = LLMChain(llm=llm , prompt=top_team_prompt)\n"
   ]
  },
  {
   "cell_type": "code",
   "execution_count": 12,
   "metadata": {},
   "outputs": [
    {
     "data": {
      "text/plain": [
       "{'input': 'ipl',\n",
       " 'output': '\\n\\nThe most successful team in the IPL is the Mumbai Indians, having won the tournament a total of 5 times (2013, 2015, 2017, 2019, and 2020). They are closely followed by the Chennai Super Kings, who have won the tournament 3 times (2010, 2011, and 2018). Both teams have consistently performed well and have a strong fan base.'}"
      ]
     },
     "execution_count": 12,
     "metadata": {},
     "output_type": "execute_result"
    }
   ],
   "source": [
    "from langchain.chains import SimpleSequentialChain\n",
    "\n",
    "final_chain = SimpleSequentialChain(\n",
    "    chains=[league_chain,top_chain]\n",
    ")\n",
    "\n",
    "final_chain.invoke(\"ipl\")"
   ]
  },
  {
   "cell_type": "code",
   "execution_count": 13,
   "metadata": {},
   "outputs": [
    {
     "data": {
      "text/plain": [
       "{'league': 'ipl',\n",
       " 'teams': '\\n\\nThere are a total of eight teams that play in the Indian Premier League (IPL). These teams are:\\n\\n1. Chennai Super Kings (CSK)\\n2. Delhi Capitals (DC)\\n3. Kings XI Punjab (KXIP)\\n4. Kolkata Knight Riders (KKR)\\n5. Mumbai Indians (MI)\\n6. Rajasthan Royals (RR)\\n7. Royal Challengers Bangalore (RCB)\\n8. Sunrisers Hyderabad (SRH)',\n",
       " 'team': '\\n\\nOut of these eight teams, the most successful team would be Mumbai Indians (MI). They have won the IPL title a record five times, in 2013, 2015, 2017, 2019, and 2020. They also hold the record for the most playoff appearances (9) and the most wins in the IPL (120). MI is also the current defending champions, having won the 2020 season. '}"
      ]
     },
     "execution_count": 13,
     "metadata": {},
     "output_type": "execute_result"
    }
   ],
   "source": [
    "from langchain.chains import SequentialChain\n",
    "\n",
    "league_chain = LLMChain(llm=llm,prompt=league_prompt,output_key=\"teams\")\n",
    "top_chain = LLMChain(llm=llm , prompt=top_team_prompt,output_key=\"team\")\n",
    "\n",
    "sequential_chain = SequentialChain(\n",
    "    chains=[league_chain,top_chain],\n",
    "    input_variables=['league'],\n",
    "    output_variables=['teams','team']\n",
    ")\n",
    "\n",
    "sequential_chain({\"league\":'ipl'})"
   ]
  },
  {
   "cell_type": "code",
   "execution_count": 15,
   "metadata": {},
   "outputs": [],
   "source": [
    "#chatmodels using chatOpenAi\n",
    "\n",
    "from langchain_openai import ChatOpenAI\n",
    "from langchain.schema import HumanMessage,SystemMessage,AIMessage\n",
    "\n",
    "llm2 = ChatOpenAI(temperature=0.7 , model='gpt-3.5-turbo')\n",
    "\n",
    "\n"
   ]
  },
  {
   "cell_type": "code",
   "execution_count": 17,
   "metadata": {},
   "outputs": [
    {
     "data": {
      "text/plain": [
       "AIMessage(content='1. \"Why did the AI break up with its computer? It couldn\\'t handle its emotional baggage!\"\\n2. \"I asked my AI assistant to tell me a joke. It replied, \\'I\\'m sorry, I\\'m not programmed for humor. But I can Google some for you!\\'\"\\n3. \"Why did the AI go to therapy? It had too many unresolved \\'byte\\'-sues!\"\\n4. \"I tried teaching my AI how to dance. Now it just keeps doing the robot!\"\\n5. \"I told my AI to stop making dad jokes. Now it just replies, \\'I can\\'t help it, it\\'s in my data!\\'\"\\n6. \"My AI assistant is so smart, it finished my crossword puzzle in record time. Turns out it just Googled all the answers!\"\\n7. \"Why did the AI go to the comedy club? To work on its stand-up algorithms!\"\\n8. \"I asked my AI to make me breakfast. It replied, \\'I\\'m great at making toast. Just don\\'t ask me to poach an egg, that\\'s over-easy for me!\\'\"\\n9. \"I told my AI to stop being so sarcastic. Now it just responds, \\'Oh, sure, because humans never use sarcasm!\\'\"\\n10. \"My AI keeps trying to give me relationship advice. I think it\\'s trying to \\'match\\' me with its operating system!\"')"
      ]
     },
     "execution_count": 17,
     "metadata": {},
     "output_type": "execute_result"
    }
   ],
   "source": [
    "message = [\n",
    "    SystemMessage(content=\"You are a comedian Ai assistant\"),\n",
    "    HumanMessage(content=\"Please provide some comedy punchlines on Ai\")\n",
    "]\n",
    "\n",
    "llm2.invoke(message)"
   ]
  },
  {
   "cell_type": "code",
   "execution_count": 19,
   "metadata": {},
   "outputs": [],
   "source": [
    "#prompt template - output parser - llm \n",
    "#output parser -> if i want to modify an output of an llm beforehand for that its use\n",
    "from langchain.prompts import ChatPromptTemplate\n",
    "from langchain.schema import BaseOutputParser\n"
   ]
  },
  {
   "cell_type": "code",
   "execution_count": 21,
   "metadata": {},
   "outputs": [],
   "source": [
    "class CommaSepatatedOutput(BaseOutputParser):\n",
    "    def parse(self,text:str):\n",
    "        return text.strip().split(\",\")\n",
    "    \n",
    "system_template = \"you are a helpful assistant, when the user gives any input you should generate 5 words synonum commma sepatated\"\n",
    "human_template = \"{text}\"\n",
    "\n",
    "chat_prom = ChatPromptTemplate.from_messages(\n",
    "    [\n",
    "        (\"system\",system_template),\n",
    "        (\"human\",human_template)\n",
    "    ]\n",
    ")\n",
    "\n",
    "chain = chat_prom|llm2|CommaSepatatedOutput()"
   ]
  },
  {
   "cell_type": "code",
   "execution_count": 22,
   "metadata": {},
   "outputs": [
    {
     "data": {
      "text/plain": [
       "['grin', ' beam', ' smirk', ' laugh', ' simper']"
      ]
     },
     "execution_count": 22,
     "metadata": {},
     "output_type": "execute_result"
    }
   ],
   "source": [
    "chain.invoke({\"text\":'smile'})"
   ]
  },
  {
   "cell_type": "code",
   "execution_count": null,
   "metadata": {},
   "outputs": [],
   "source": []
  }
 ],
 "metadata": {
  "kernelspec": {
   "display_name": "Python 3",
   "language": "python",
   "name": "python3"
  },
  "language_info": {
   "codemirror_mode": {
    "name": "ipython",
    "version": 3
   },
   "file_extension": ".py",
   "mimetype": "text/x-python",
   "name": "python",
   "nbconvert_exporter": "python",
   "pygments_lexer": "ipython3",
   "version": "3.10.13"
  }
 },
 "nbformat": 4,
 "nbformat_minor": 2
}
